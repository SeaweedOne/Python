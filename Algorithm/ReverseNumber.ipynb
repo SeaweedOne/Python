{
 "cells": [
  {
   "cell_type": "markdown",
   "metadata": {},
   "source": [
    "상수는 수를 다른 사람과 다르게 거꾸로 읽는다. 예를 들어, 734와 893을 칠판에 적었다면, 상수는 이 수를 437과 398로 읽는다. 따라서, 437을 큰 수라고 말한다.  \n",
    "두 수가 주어졌을 때, 상수의 대답을 출력하는 프로그램을 작성하시오."
   ]
  },
  {
   "cell_type": "code",
   "execution_count": null,
   "metadata": {},
   "outputs": [],
   "source": [
    "import random as ran\n",
    "num1 = ran.randint(1,100)\n",
    "num2 = ran.randint(1,100)\n",
    "\n",
    "print(\"number 1 = {}, number 2 = {}\".format(num1,num2))\n",
    "\n",
    "num1,num2 = str(num1),str(num2)\n",
    "\n",
    "newNum1 = 0\n",
    "newNum2 = 0\n",
    "for i in range(len(num1)):\n",
    "    if i == 0 : newNum1  +=int(num1[i])  \n",
    "    else: newNum1  += int(num1[i])*(10**i) \n",
    "        \n",
    "for i in range(len(num2)):\n",
    "    if i == 0 : newNum2  +=int(num2[i])  \n",
    "    else: newNum2  += int(num2[i])*(10**i) \n",
    "        \n",
    "\n",
    "              \n",
    "print(\"reversed number = {} , {}\". format(newNum1, newNum2))\n",
    "\n",
    "if newNum1 > newNum2 : \n",
    "    print(\"{} > {}\".format(newNum1, newNum2))\n",
    "else: \n",
    "    print(\"{} < {}\".format(newNum1, newNum2))"
   ]
  }
 ],
 "metadata": {
  "kernelspec": {
   "display_name": "Python 3",
   "language": "python",
   "name": "python3"
  },
  "language_info": {
   "codemirror_mode": {
    "name": "ipython",
    "version": 3
   },
   "file_extension": ".py",
   "mimetype": "text/x-python",
   "name": "python",
   "nbconvert_exporter": "python",
   "pygments_lexer": "ipython3",
   "version": "3.7.6"
  }
 },
 "nbformat": 4,
 "nbformat_minor": 4
}
