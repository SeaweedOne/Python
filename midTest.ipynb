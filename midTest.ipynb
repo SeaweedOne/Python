{
 "cells": [
  {
   "cell_type": "markdown",
   "metadata": {},
   "source": [
    "# 1번"
   ]
  },
  {
   "cell_type": "code",
   "execution_count": null,
   "metadata": {},
   "outputs": [],
   "source": [
    "testCase = int(input(\"\"))\n",
    "\n",
    "userInputString = []\n",
    "for i in range(testCase):\n",
    "    userString = input(\"\")\n",
    "    userInputString.append(userString)\n",
    "    \n",
    "for j  in range(len(userInputString)):\n",
    "    print(userInputString[j].count(\"A\"))"
   ]
  },
  {
   "cell_type": "markdown",
   "metadata": {},
   "source": [
    "# 2번"
   ]
  },
  {
   "cell_type": "code",
   "execution_count": null,
   "metadata": {},
   "outputs": [],
   "source": [
    "testCase = int(input(\"\")) #테스트케이스 인풋\n",
    "stringList = [] \n",
    "for i in range(testCase): #케이스만큼 포문 돌며 한번에 오름차순할 리스트 입력받기 \n",
    "    userInput = input(\"\")\n",
    "    stringList.append(userInput) #인풋받은 문자열 값을 리스트에 추가해줌.\n",
    "    userInput = \"\"\n",
    "\n",
    "for i in range(testCase): #테스케이스만큼 포문을 이용해 리스트 하나씩 꺼내오기 \n",
    "    result = []\n",
    "    a = stringList[i].split(\" \")\n",
    "    for k in range(len(a)):\n",
    "        result.append(int(a[k]))\n",
    "        result.sort() #정렬\n",
    "    resultString = \"\"\n",
    "    for a in result:\n",
    "        resultString += str(a) +\" \"\n",
    "    print(resultString)\n",
    "        "
   ]
  },
  {
   "cell_type": "markdown",
   "metadata": {},
   "source": [
    "# 3번"
   ]
  },
  {
   "cell_type": "code",
   "execution_count": null,
   "metadata": {},
   "outputs": [],
   "source": [
    "arrSize = input(\"\")\n",
    "colLen , rowLen = arrSize.split(\" \")\n",
    "colLen , rowLen = int(colLen), int(rowLen)\n",
    "newArr = []\n",
    "for i in range(colLen):\n",
    "    userInput = input(\"\")\n",
    "    user = userInput.split(\" \")\n",
    "    tempList = []\n",
    "    for j in range(rowLen): tempList.append(int(user[j]))\n",
    "    newArr.append(tempList)\n",
    "\n",
    "testNum = int(input(\"\"))\n",
    "testCase = []\n",
    "for i in range(testNum):\n",
    "    userInput = input(\"\")\n",
    "    user = userInput.split(\" \")\n",
    "    temp = []\n",
    "    for j in range(2):\n",
    "        temp.append(int(user[j]))\n",
    "    testCase.append(temp)\n",
    "            \n",
    "for i in range(0, testNum): #testcase만큼 for문\n",
    "    loaction = testCase[i] #좌표 하나씩 불러오기 \n",
    "    col = loaction[0]-1 \n",
    "    row = loaction[1]-1\n",
    "    colSum = 0\n",
    "    rowSum = 0\n",
    "    for j in range(colLen): # 각 열 더하기 \n",
    "        colSum += newArr[j][row]\n",
    "    for k in range(rowLen): #각 행 더하기 \n",
    "        rowSum += newArr[col][k]\n",
    "    print(colSum,rowSum)"
   ]
  },
  {
   "cell_type": "markdown",
   "metadata": {},
   "source": [
    "# 4번"
   ]
  },
  {
   "cell_type": "code",
   "execution_count": null,
   "metadata": {},
   "outputs": [],
   "source": [
    "userInput = input(\"\")\n",
    "N,M,K = userInput.split(\" \")\n",
    "N,M,K = int(N),int(M),int(K)\n",
    "\n",
    "userInputList = input(\" \")\n",
    "userArray = userInputList.split(\" \")\n",
    "\n",
    "userArrayList = []\n",
    "\n",
    "for i in range(len(userArray)): \n",
    "    temp = int(userArray[i])\n",
    "    userArrayList.append(temp)\n",
    "    \n",
    "userArrayList = userArrayList.sort()\n",
    "sumation = 0\n",
    "for j in range(N-1,-1,-1):\n",
    "    sumation +=userArrayList[j] * K \n",
    "    print(userArrayList[j] ,\"*\",k)\n",
    "    M -= K\n",
    "    print(M)\n",
    "    if(M <= 0): break\n",
    "    \n",
    "print(sumation)\n"
   ]
  }
 ],
 "metadata": {
  "kernelspec": {
   "display_name": "Python 3",
   "language": "python",
   "name": "python3"
  },
  "language_info": {
   "codemirror_mode": {
    "name": "ipython",
    "version": 3
   },
   "file_extension": ".py",
   "mimetype": "text/x-python",
   "name": "python",
   "nbconvert_exporter": "python",
   "pygments_lexer": "ipython3",
   "version": "3.7.6"
  }
 },
 "nbformat": 4,
 "nbformat_minor": 4
}
