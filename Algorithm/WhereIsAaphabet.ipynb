{
 "cells": [
  {
   "cell_type": "markdown",
   "metadata": {},
   "source": [
    "알파벳 소문자로만 이루어진 단어가 주어진다. 각각의 알파벳에 대해서, 단어에 포함되어 있는 경우에는 처음 등장하는 위치를,  \n",
    "포함되어 있지 않은 경우에는 -1을 출력하는 프로그램을 작성하시오."
   ]
  },
  {
   "cell_type": "code",
   "execution_count": null,
   "metadata": {},
   "outputs": [],
   "source": [
    "import string \n",
    "while(True):\n",
    "    userinput = input(\"단어 혹은 문장을 입력하세요. \")\n",
    "    alp = string.ascii_lowercase\n",
    "    for i in range(len(alp)):\n",
    "        alpin = alp[i]\n",
    "        if alpin in userinput :print(alpin,\" = \",userinput.index(alpin)+1,\"번째\")\n",
    "        else: print(alpin,\" = not exist\")"
   ]
  }
 ],
 "metadata": {
  "kernelspec": {
   "display_name": "Python 3",
   "language": "python",
   "name": "python3"
  },
  "language_info": {
   "codemirror_mode": {
    "name": "ipython",
    "version": 3
   },
   "file_extension": ".py",
   "mimetype": "text/x-python",
   "name": "python",
   "nbconvert_exporter": "python",
   "pygments_lexer": "ipython3",
   "version": "3.7.6"
  }
 },
 "nbformat": 4,
 "nbformat_minor": 4
}
