{
 "cells": [
  {
   "cell_type": "markdown",
   "metadata": {},
   "source": [
    "피보나치 수열이란, 첫 번째 항의 값이 0이고 두 번째 항의 값이 1일 때, 이후의 항들은 이전의 두 항을 더한 값으로 이루어지는 수열을 말한다.   \n",
    "예) 0, 1, 1, 2, 3, 5, 8, 13 인풋을 정수 n으로 받았을때, n 이하까지의 피보나치 수열을 출력하는 프로그램을 작성하세요"
   ]
  },
  {
   "cell_type": "code",
   "execution_count": null,
   "metadata": {},
   "outputs": [],
   "source": [
    "num = 30\n",
    "a,b = 0,1\n",
    "lista = [0,1]\n",
    "while True:\n",
    "    result = a+b\n",
    "    if result < num: #num 보다 큰 값이 리스트에 추가되지 않기 위해서 결과가  num보다 작을 때 추가한다는 조건을 설정\n",
    "        lista.append(result)\n",
    "        a = b   #result에 이전값 + a+1값이 들어가기 위해  a에  b가 대입되고 b에는 a+b값인 결과값이 대입된다.\n",
    "        b = result\n",
    "    else: break #만약 결과값이 num값보다 커지면 while문 멈추기\n",
    "    \n",
    "    \n",
    "print(lista)"
   ]
  }
 ],
 "metadata": {
  "kernelspec": {
   "display_name": "Python 3",
   "language": "python",
   "name": "python3"
  },
  "language_info": {
   "codemirror_mode": {
    "name": "ipython",
    "version": 3
   },
   "file_extension": ".py",
   "mimetype": "text/x-python",
   "name": "python",
   "nbconvert_exporter": "python",
   "pygments_lexer": "ipython3",
   "version": "3.7.6"
  }
 },
 "nbformat": 4,
 "nbformat_minor": 4
}
