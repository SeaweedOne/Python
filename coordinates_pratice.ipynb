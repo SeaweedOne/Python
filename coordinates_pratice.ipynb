{
 "cells": [
  {
   "cell_type": "code",
   "execution_count": null,
   "metadata": {},
   "outputs": [],
   "source": [
    "import sys\n",
    "sys.stdin = open(\"sample_input.txt\",\"r\")\n",
    "N = sys.stdin.readline()\n",
    "N= int(N[0])\n",
    "\n",
    "for k in range(N): #받아온 자료를 한줄씩 불러오기!\n",
    "    E = sys.stdin.readline().split()\n",
    "    for j in range(len(E)):\n",
    "        E[j] = int(E[j])\n",
    "    case = E\n",
    "    rabitNum = case[0]\n",
    "    fox = case[1:3]\n",
    "    maxNum = 20\n",
    "    count = 0 \n",
    "    for i in range(3,len(case)-1,2): #토깽이 좌표 정의 \n",
    "        rabit = (case[i],case[i+1])\n",
    "        \n",
    "        #가로세로축 스캔\n",
    "        if (fox[0]==rabit[0])or(fox[1]==rabit[1]): count += 1\n",
    "        #대각선 축 스캔 \n",
    "        for j in range(maxNum):\n",
    "            newfox1 =  fox[0]+j,fox[1]+j    \n",
    "            newfox2 =  fox[0]+j,fox[1]-j     \n",
    "            newfox3 =  fox[0]-j,fox[1]-j\n",
    "            newfox4 =  fox[0]-j,fox[1]+j\n",
    "            if (newfox1 == rabit) or (newfox2 == rabit) or (newfox3 == rabit) or (newfox4 == rabit): count +=1\n",
    "        \n",
    "    print(\"#{} 번째 잡아먹힌 토끼의 수는 {}마리 입니다.\".format(k+1,count))"
   ]
  }
 ],
 "metadata": {
  "kernelspec": {
   "display_name": "Python 3",
   "language": "python",
   "name": "python3"
  },
  "language_info": {
   "codemirror_mode": {
    "name": "ipython",
    "version": 3
   },
   "file_extension": ".py",
   "mimetype": "text/x-python",
   "name": "python",
   "nbconvert_exporter": "python",
   "pygments_lexer": "ipython3",
   "version": "3.8.5"
  }
 },
 "nbformat": 4,
 "nbformat_minor": 4
}
