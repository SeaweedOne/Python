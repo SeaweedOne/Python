{
 "cells": [
  {
   "cell_type": "markdown",
   "metadata": {},
   "source": [
    "0보다 크거나 같고, 99보다 작거나 같은 정수가 주어질 때 다음과 같은 연산을 할 수 있다.  \n",
    "먼저 주어진 수가 10보다 작다면 앞에 0을 붙여 두 자리 수로 만들고, 각 자리의 숫자를 더한다.  \n",
    "그 다음, 주어진 수의 가장 오른쪽 자리 수와 앞에서 구한 합의 가장 오른쪽 자리 수를 이어 붙이면 새로운 수를 만들 수 있다.  \n",
    "26부터 시작한다. 2+6 = 8이다. 새로운 수는 68이다. 6+8 = 14이다. 새로운 수는 84이다. 8+4 = 12이다. 새로운 수는 42이다. 4+2 = 6이다. 새로운 수는 26이다.  \n",
    "위의 예는 4번만에 원래 수로 돌아오니 26의 사이클의 길이는 4이다. N이 주어졌을 때, N의 사이클의 길이를 구하는 프로그램을 작성하시오."
   ]
  },
  {
   "cell_type": "code",
   "execution_count": null,
   "metadata": {},
   "outputs": [],
   "source": [
    "import random\n",
    "a = random.randint(1,99)  #랜덤숫자 생성\n",
    "countNum = 0\n",
    "\n",
    "if a > 10 : #랜덤숫자가 한자리인 경우\n",
    "    a = str(a) #문자열 변환 후 앞에 0을 붙여 두자리로 만듦\n",
    "    print (\"생성숫자 : \",a)\n",
    "    a1,a2 = int(a[0]), int(a[1])#두자리의 수를 하나씩 나누어 변수 지정해줌\n",
    "    result = 0\n",
    "    fixNum = a2 #차후 비교를 위해 a2값 픽스넘으로 고정\n",
    "    while True:\n",
    "        result = a1 + a2 #결과값은 랜덤수1 + 랜덤수2\n",
    "        print(\"%s + %s = %s\"%(a1,a2,result))\n",
    "        if result < 10 : #결과값이 한자리인경우 더해주기 위해 앞에 0 붙여줌 \n",
    "            result = \"0\" + str(result) \n",
    "            r1,r2 = int(result[0]),int(result[1]) #두자리 수 결과값을 결과값1과 2로 나눔\n",
    "            a1 = a2 #랜덤값의 마지막자리 + 결과값의 마지막자리 연산 수행을 위해 랜덤숫자 2를 랜덤숫자 1 로 대입하고 결과값2를 랜덤숫자 2로 대입함\n",
    "            a2 = r2\n",
    "           \n",
    "        else :  #결과값이 2자리인 경우 \n",
    "            result = str(result) #문자열로 변환, 결과1/2로 나누어 저장 후 연산을 위해 위와 같이 랜덤2를 랜덤1에 결과2를 랜덤2 에 대입함.\n",
    "            r1,r2 = int(result[0]),int(result[1])\n",
    "            a1 = a2\n",
    "            a2 = r2\n",
    "        countNum +=1 #최종 지정 까지 횟수 구하기 위에 while문과 break 사이에 카운트 넘버 +1 해해줌\n",
    "        if fixNum == r2 : break\n",
    "elif a  < 10: #랜덤값2 2자리인경우 두자리 변환 제외하고 위와 같음\n",
    "    a = \"0\" + str(a)\n",
    "    print (a)\n",
    "    a1,a2 = int(a[0]), int(a[1])\n",
    "    result = 0\n",
    "    fixNum = a2\n",
    "    while True:\n",
    "        result = a1 + a2\n",
    "        print(\"%s + %s = %s\"%(a1,a2,result))\n",
    "        if result < 10 :\n",
    "            result = \"0\" + str(result)\n",
    "            r1,r2 = int(result[0]),int(result[1])\n",
    "            a1 = a2 \n",
    "            a2 = r2\n",
    "            \n",
    "        else : \n",
    "            result = str(result)\n",
    "            r1,r2 = int(result[0]),int(result[1])\n",
    "            a1 = a2\n",
    "            a2 = r2\n",
    "        countNum += 1\n",
    "        if fixNum == r2 : break\n",
    "\n",
    "print(\"횟수는? \",countNum)\n",
    "    "
   ]
  },
  {
   "cell_type": "markdown",
   "metadata": {},
   "source": [
    "상수는 수를 다른 사람과 다르게 거꾸로 읽는다. 예를 들어, 734와 893을 칠판에 적었다면, 상수는 이 수를 437과 398로 읽는다. 따라서, 437을 큰 수라고 말한다.  \n",
    "두 수가 주어졌을 때, 상수의 대답을 출력하는 프로그램을 작성하시오."
   ]
  },
  {
   "cell_type": "code",
   "execution_count": null,
   "metadata": {},
   "outputs": [],
   "source": [
    "import random as ran\n",
    "num1 = ran.randint(1,100)\n",
    "num2 = ran.randint(1,100)\n",
    "\n",
    "print(\"number 1 = {}, number 2 = {}\".format(num1,num2))\n",
    "\n",
    "num1,num2 = str(num1),str(num2)\n",
    "\n",
    "newNum1 = 0\n",
    "newNum2 = 0\n",
    "for i in range(len(num1)):\n",
    "    if i == 0 : newNum1  +=int(num1[i])  \n",
    "    else: newNum1  += int(num1[i])*(10**i) \n",
    "        \n",
    "for i in range(len(num2)):\n",
    "    if i == 0 : newNum2  +=int(num2[i])  \n",
    "    else: newNum2  += int(num2[i])*(10**i) \n",
    "        \n",
    "\n",
    "              \n",
    "print(\"reversed number = {} , {}\". format(newNum1, newNum2))\n",
    "\n",
    "if newNum1 > newNum2 : \n",
    "    print(\"{} > {}\".format(newNum1, newNum2))\n",
    "else: \n",
    "    print(\"{} < {}\".format(newNum1, newNum2))"
   ]
  },
  {
   "cell_type": "markdown",
   "metadata": {},
   "source": [
    "알파벳 소문자로만 이루어진 단어가 주어진다. 각각의 알파벳에 대해서, 단어에 포함되어 있는 경우에는 처음 등장하는 위치를,  \n",
    "포함되어 있지 않은 경우에는 -1을 출력하는 프로그램을 작성하시오."
   ]
  },
  {
   "cell_type": "code",
   "execution_count": null,
   "metadata": {},
   "outputs": [],
   "source": [
    "import string \n",
    "while(True):\n",
    "    userinput = input(\"단어 혹은 문장을 입력하세요. \")\n",
    "    alp = string.ascii_lowercase\n",
    "    for i in range(len(alp)):\n",
    "        alpin = alp[i]\n",
    "        if alpin in userinput :print(alpin,\" = \",userinput.index(alpin)+1,\"번째\")\n",
    "        else: print(alpin,\" = not exist\")"
   ]
  }
 ],
 "metadata": {
  "kernelspec": {
   "display_name": "Python 3",
   "language": "python",
   "name": "python3"
  },
  "language_info": {
   "codemirror_mode": {
    "name": "ipython",
    "version": 3
   },
   "file_extension": ".py",
   "mimetype": "text/x-python",
   "name": "python",
   "nbconvert_exporter": "python",
   "pygments_lexer": "ipython3",
   "version": "3.7.6"
  }
 },
 "nbformat": 4,
 "nbformat_minor": 4
}
