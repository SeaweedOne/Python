{
 "cells": [
  {
   "cell_type": "markdown",
   "metadata": {},
   "source": [
    "네이버 ApI 데이터랩"
   ]
  },
  {
   "cell_type": "code",
   "execution_count": null,
   "metadata": {
    "jupyter": {
     "source_hidden": true
    }
   },
   "outputs": [],
   "source": [
    "import os\n",
    "import sys\n",
    "import urllib.request\n",
    "import json\n",
    "\n",
    "client_id = \"t5oP0F33vOPuJ1SbSBoK\"\n",
    "client_secret = \"BtYa_223ny\"\n",
    "url = \"https://openapi.naver.com/v1/datalab/search\";\n",
    "body = \"{\\\"startDate\\\":\\\"2019-01-01\\\",\\\"endDate\\\":\\\"2019-12-31\\\",\\\"timeUnit\\\":\\\"month\\\",\\\"keywordGroups\\\":[{\\\"groupName\\\":\\\"케이크\\\",\\\"keywords\\\":[\\\"케이크\\\",\\\"cake\\\"]},{\\\"groupName\\\":\\\"Icecream\\\",\\\"keywords\\\":[\\\"icecream\\\",\\\"아이스크림\\\"]}],\\\"device\\\":\\\"pc\\\",\\\"ages\\\":[],\\\"gender\\\":\\\"f\\\"}\";\n",
    "\n",
    "request = urllib.request.Request(url)\n",
    "request.add_header(\"X-Naver-Client-Id\",client_id)\n",
    "request.add_header(\"X-Naver-Client-Secret\",client_secret)\n",
    "request.add_header(\"Content-Type\",\"application/json\")\n",
    "response = urllib.request.urlopen(request, data=body.encode(\"utf-8\"))\n",
    "rescode = response.getcode()\n",
    "if(rescode==200):\n",
    "    response_body = response.read()\n",
    "    dict1 = json.loads(response_body.decode('utf-8'))\n",
    "    results = dict1['results']\n",
    "    for i in range(len(results)):\n",
    "        result = results[i]\n",
    "        print((i+1),\"번째 키워드 검색어 트렌드\")\n",
    "        print()\n",
    "        print(\"검색 키워드 : \" + result['keywords'][0]+\",\"+result['keywords'][1])\n",
    "        print()\n",
    "        for j in range(len(result['data'])):\n",
    "                       print(\"검색 기간 : \",result['data'][j]['period'])\n",
    "                       print(\"검색 비율 : \",result['data'][j]['ratio'])\n",
    "                       print()\n",
    "        print()\n",
    "                    \n",
    "else:\n",
    "    print(\"Error Code:\" + rescode)"
   ]
  },
  {
   "cell_type": "markdown",
   "metadata": {},
   "source": [
    "네이버 API 블로그 검색"
   ]
  },
  {
   "cell_type": "code",
   "execution_count": 2,
   "metadata": {
    "collapsed": true,
    "jupyter": {
     "outputs_hidden": true,
     "source_hidden": true
    }
   },
   "outputs": [
    {
     "name": "stdout",
     "output_type": "stream",
     "text": [
      "1 번째 검색 결과\n",
      "title :부산 남포동 이재모피자 치즈가 너무 맛있어\n",
      "bloggername :몽몽의 먹어야 사는 블로그\n",
      "link : https://blog.naver.com/kizaki56\n",
      "\n",
      "\n",
      "2 번째 검색 결과\n",
      "title :피자마루 만원도 안되는 가성비 피자 맛도 좋다\n",
      "bloggername :오늘은 뭐 사먹지?\n",
      "link : https://blog.naver.com/leedan2\n",
      "\n",
      "\n",
      "3 번째 검색 결과\n",
      "title :대부도 피자플리즈, 바다뷰 그리고 하트피자\n",
      "bloggername :언제 어디로 갈지 모르는\n",
      "link : https://blog.naver.com/wuouw1\n",
      "\n",
      "\n",
      "4 번째 검색 결과\n",
      "title :영도 영도우 부산 피자맛집 치즈 폭탄 네모 피자\n",
      "bloggername :권매력의 charming-DAY\n",
      "link : https://blog.naver.com/kwoncharm_e\n",
      "\n",
      "\n",
      "5 번째 검색 결과\n",
      "title :피자헛 메뉴 수퍼슈프림 피자 매장에서 먹고옴\n",
      "bloggername :일상 내 기록 :)\n",
      "link : https://blog.naver.com/ingangdosa\n",
      "\n",
      "\n"
     ]
    }
   ],
   "source": [
    "import os\n",
    "import sys\n",
    "import urllib.request\n",
    "import json\n",
    "\n",
    "client_id = \"fIyDLdCQFRQm4ofK9rAT\"\n",
    "client_secret = \"KH8pvMA8Ih\"\n",
    "encText = urllib.parse.quote(\"피자\")\n",
    "url = \"https://openapi.naver.com/v1/search/blog?query={}&display={}\".format(encText,5)  # json 결과\n",
    "# url = \"https://openapi.naver.com/v1/search/blog.xml?query=\" + encText # xml 결과\n",
    "request = urllib.request.Request(url)\n",
    "request.add_header(\"X-Naver-Client-Id\",client_id)\n",
    "request.add_header(\"X-Naver-Client-Secret\",client_secret)\n",
    "response = urllib.request.urlopen(request)\n",
    "rescode = response.getcode()\n",
    "if(rescode==200):\n",
    "    response_body = response.read()\n",
    "    #print(response_body.decode('utf-8'))\n",
    "    #jsonString = json.dumps(response_body.decode('utf-8'),indent=4)\n",
    "    #print(jsonString)\n",
    "    dict = json.loads(response_body.decode('utf-8'))\n",
    "    i = 1\n",
    "    # print(dict['items'])\n",
    "    for a in dict['items']:\n",
    "        print(i,\"번째 검색 결과\")\n",
    "        print(\"title :\" + a['title'].replace(\"<b>\",\"\").replace(\"</b>\",\"\"))\n",
    "        print(\"bloggername :\"+ a['bloggername'])\n",
    "        print(\"link : \" + a['bloggerlink'])\n",
    "        print(\"\\n\")\n",
    "        i +=1\n",
    "else:\n",
    "    print(\"Error Code:\" + rescode)"
   ]
  }
 ],
 "metadata": {
  "kernelspec": {
   "display_name": "Python 3",
   "language": "python",
   "name": "python3"
  },
  "language_info": {
   "codemirror_mode": {
    "name": "ipython",
    "version": 3
   },
   "file_extension": ".py",
   "mimetype": "text/x-python",
   "name": "python",
   "nbconvert_exporter": "python",
   "pygments_lexer": "ipython3",
   "version": "3.8.5"
  }
 },
 "nbformat": 4,
 "nbformat_minor": 4
}
