{
 "cells": [
  {
   "cell_type": "markdown",
   "metadata": {},
   "source": [
    "Rock Scissor Paper Game"
   ]
  },
  {
   "cell_type": "code",
   "execution_count": null,
   "metadata": {},
   "outputs": [],
   "source": [
    "game = {1:\"scissor\", 2:\"rock\", 3:\"paper\"}\n",
    "\n",
    "import random \n",
    "comNum = random.randint(1,3) \n",
    "com = game.get(comNum)  #dic에서 랜덤 숫자에 대치되는 값 택스트로 찾기 \n",
    "\n",
    "while True : #item 을 이용해 키와 값을 얻어낸 후 사용자 입력값과 비교해 키값을 얻어냄.\n",
    "    user = input(\"가위 바위 보! 무엇을 낼까요?: \")\n",
    "    for key ,val in game.items():  \n",
    "        if user == val:\n",
    "            userNum = key  \n",
    "\n",
    "    print(\"user : \", user)  #사용자 선택 출력\n",
    "    print(\"computer: \",com)  #컴퓨터 선택 출력\n",
    "\n",
    "\n",
    "    if comNum == userNum : print(\"same!!!\") #동점 / 유저 승리 / 컴퓨터 승리 정의\n",
    "    elif (comNum < userNum) or (comNum == 3 and userNum == 1): print(\"You Win :)\")\n",
    "    else: print(\"You Loose..T.T\")"
   ]
  }
 ],
 "metadata": {
  "kernelspec": {
   "display_name": "Python 3",
   "language": "python",
   "name": "python3"
  },
  "language_info": {
   "codemirror_mode": {
    "name": "ipython",
    "version": 3
   },
   "file_extension": ".py",
   "mimetype": "text/x-python",
   "name": "python",
   "nbconvert_exporter": "python",
   "pygments_lexer": "ipython3",
   "version": "3.7.6"
  }
 },
 "nbformat": 4,
 "nbformat_minor": 4
}
