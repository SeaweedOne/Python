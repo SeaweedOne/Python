{
 "cells": [
  {
   "cell_type": "markdown",
   "metadata": {},
   "source": [
    "# 문제1"
   ]
  },
  {
   "cell_type": "code",
   "execution_count": 36,
   "metadata": {},
   "outputs": [
    {
     "name": "stdin",
     "output_type": "stream",
     "text": [
      " 5,2,10,5,15\n"
     ]
    },
    {
     "name": "stdout",
     "output_type": "stream",
     "text": [
      "5, 10, 15\n"
     ]
    }
   ],
   "source": [
    "inputStr = input(\"\") #입력받기 \n",
    "D , arr = int(inputStr.split(\",\")[0]) , inputStr.split(\",\")[1:] #첫번째 숫자는 D로 나머지는 배열로 정의 \n",
    "result = [] #결과를 저장할 배열 만들기\n",
    "\n",
    "\n",
    "for i in range(len(arr)): #배열 안 요소들 정수로 바꿔줌\n",
    "    arr[i] = int(arr[i])\n",
    "    \n",
    "arr.sort() #배열 정렬 \n",
    "\n",
    "for i in range(len(arr)): #배열의 길이만큼 포문 \n",
    "    if arr[i] % D == 0 : #D로나눈 나머지가 0인 숫자들 결과 배열에 넣어주기 \n",
    "        result.append(arr[i])\n",
    "\n",
    "resultStr = \"\"\n",
    "if len(result) > 0: #결과값이 있다면, \n",
    "    for i in range(len(result)): #배열의 길이만큼 돌며 str에 결과 요소 넣어주기 -> [] 리스트로 출력되는 이부분 없애기 이위해 이렇게 처리했습니다.\n",
    "        if i == len(result)-1:\n",
    "            resultStr += str(result[i])\n",
    "        else : resultStr += str(result[i])+\", \"\n",
    "    print(resultStr)\n",
    "else : print(-1) #결과값이 없다면 -1 출력\n"
   ]
  },
  {
   "cell_type": "markdown",
   "metadata": {},
   "source": [
    "# 문제2"
   ]
  },
  {
   "cell_type": "code",
   "execution_count": 35,
   "metadata": {},
   "outputs": [
    {
     "name": "stdin",
     "output_type": "stream",
     "text": [
      " 5 6 7 8 4\n",
      " 1 2 4 6 5\n"
     ]
    },
    {
     "name": "stdout",
     "output_type": "stream",
     "text": [
      "F\n"
     ]
    }
   ],
   "source": [
    "inputStr1 = input(\"\") #사용자에게 두개의 배열 입력받기 (띄어쓰기로 구분됨)\n",
    "inputStr2 = input(\"\")\n",
    "\n",
    "arr1 = inputStr1.split(\" \") #공백을 기준으로 나누기 \n",
    "arr2 = inputStr2.split(\" \")\n",
    "for i in range(len(arr1)): #나눠진 배열의 요소들을 정수형으로 변환\n",
    "    arr1[i] = int(arr1[i])\n",
    "    arr2[i] = int(arr2[i])\n",
    "\n",
    "arr1.sort() #배열 정렬\n",
    "arr2.sort()\n",
    "\n",
    "if arr1 == arr2 :  #정렬된 두 배열이 같다면 T 아니라면 F 출력 \n",
    "    print(\"T\")\n",
    "else : \n",
    "    print(\"F\")"
   ]
  }
 ],
 "metadata": {
  "kernelspec": {
   "display_name": "Python 3",
   "language": "python",
   "name": "python3"
  },
  "language_info": {
   "codemirror_mode": {
    "name": "ipython",
    "version": 3
   },
   "file_extension": ".py",
   "mimetype": "text/x-python",
   "name": "python",
   "nbconvert_exporter": "python",
   "pygments_lexer": "ipython3",
   "version": "3.8.5"
  }
 },
 "nbformat": 4,
 "nbformat_minor": 4
}
